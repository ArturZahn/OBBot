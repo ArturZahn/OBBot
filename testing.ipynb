{
 "cells": [
  {
   "cell_type": "markdown",
   "id": "ae442a57",
   "metadata": {},
   "source": [
    "Detecting new transactions"
   ]
  },
  {
   "cell_type": "code",
   "execution_count": 74,
   "id": "980f3caf",
   "metadata": {},
   "outputs": [],
   "source": [
    "sample1 = [{'day_date': '2025-07-17', 'day_partial_balance': 2871.44, 'transactions': [{'description_primary': 'Rendimentos', 'description_secondary': '', 'amount': 1.29, 'time': '07:05'}]}, {'day_date': '2025-07-18', 'day_partial_balance': 1740.69, 'transactions': [{'description_primary': 'Rendimentos', 'description_secondary': '', 'amount': 1.29, 'time': '05:18'}, {'description_primary': 'Pagamento de contas', 'description_secondary': 'RFB - DOC ARREC EMP', 'amount': -452.83, 'time': '16:11'}, {'description_primary': 'Pagamento de contas', 'description_secondary': 'SAAE São Carlos SP', 'amount': -34.64, 'time': '16:18'}, {'description_primary': 'Pagamento de contas', 'description_secondary': 'CPFL Paulista', 'amount': -1171.44, 'time': '19:28'}, {'description_primary': 'Dinheiro retirado', 'description_secondary': 'Sobras do mes', 'amount': 536.82, 'time': '19:30'}, {'description_primary': 'Transferência Pix recebida', 'description_secondary': 'ARTUR ZAHN', 'amount': 1000.0, 'time': '19:45'}, {'description_primary': 'Transferência Pix recebida', 'description_secondary': 'ARTUR ZAHN', 'amount': 968.36, 'time': '19:46'}, {'description_primary': 'Dinheiro reservado', 'description_secondary': 'Sobras do mes', 'amount': -536.82, 'time': '19:52'}, {'description_primary': 'Pagamento de contas', 'description_secondary': 'SAAE São Carlos SP', 'amount': -1441.49, 'time': '19:55'}]}, {'day_date': '2025-07-21', 'day_partial_balance': 1741.76, 'transactions': [{'description_primary': 'Rendimentos', 'description_secondary': '', 'amount': 1.07, 'time': '07:20'}]}, {'day_date': '2025-07-22', 'day_partial_balance': 1742.55, 'transactions': [{'description_primary': 'Rendimentos', 'description_secondary': '', 'amount': 0.79, 'time': '06:31'}]}, {'day_date': '2025-07-23', 'day_partial_balance': 1743.34, 'transactions': [{'description_primary': 'Rendimentos', 'description_secondary': '', 'amount': 0.79, 'time': '06:56'}]}, {'day_date': '2025-07-24', 'day_partial_balance': 1744.12, 'transactions': [{'description_primary': 'Rendimentos', 'description_secondary': '', 'amount': 0.78, 'time': '08:03'}]}, {'day_date': '2025-07-25', 'day_partial_balance': 1744.91, 'transactions': [{'description_primary': 'Rendimentos', 'description_secondary': '', 'amount': 0.79, 'time': '11:20'}]}, {'day_date': '2025-07-28', 'day_partial_balance': 1745.7, 'transactions': [{'description_primary': 'Rendimentos', 'description_secondary': '', 'amount': 0.79, 'time': '05:53'}]}, {'day_date': '2025-07-29', 'day_partial_balance': 1746.49, 'transactions': [{'description_primary': 'Rendimentos', 'description_secondary': '', 'amount': 0.79, 'time': '09:56'}]}, {'day_date': '2025-07-30', 'day_partial_balance': 1747.27, 'transactions': [{'description_primary': 'Rendimentos', 'description_secondary': '', 'amount': 0.78, 'time': '06:12'}]}, {'day_date': '2025-07-31', 'day_partial_balance': 1748.05, 'transactions': [{'description_primary': 'Rendimentos', 'description_secondary': '', 'amount': 0.78, 'time': '06:40'}]}]\n",
    "sample2 = [{'day_date': '2025-07-17', 'day_partial_balance': 2871.44, 'transactions': [{'description_primary': 'Rendimentos', 'description_secondary': '', 'amount': 1.29, 'time': '07:05'}]}, {'day_date': '2025-07-18', 'day_partial_balance': 1740.69, 'transactions': [{'description_primary': 'Rendimentos', 'description_secondary': '', 'amount': 1.29, 'time': '05:18'}, {'description_primary': 'Pagamento de contas', 'description_secondary': 'RFB - DOC ARREC EMP', 'amount': -452.83, 'time': '16:11'}, {'description_primary': 'Pagamento de contas', 'description_secondary': 'SAAE São Carlos SP', 'amount': -34.64, 'time': '16:18'}, {'description_primary': 'Pagamento de contas', 'description_secondary': 'CPFL Paulista', 'amount': -1171.44, 'time': '19:28'}, {'description_primary': 'Dinheiro retirado', 'description_secondary': 'Sobras do mes', 'amount': 536.82, 'time': '19:30'}, {'description_primary': 'Transferência Pix recebida', 'description_secondary': 'ARTUR ZAHN', 'amount': 1000.0, 'time': '19:45'}, {'description_primary': 'Transferência Pix recebida', 'description_secondary': 'ARTUR ZAHN', 'amount': 968.36, 'time': '19:46'}, {'description_primary': 'Dinheiro reservado', 'description_secondary': 'Sobras do mes', 'amount': -536.82, 'time': '19:52'}, {'description_primary': 'Pagamento de contas', 'description_secondary': 'SAAE São Carlos SP', 'amount': -1441.49, 'time': '19:55'}]}, {'day_date': '2025-07-21', 'day_partial_balance': 1741.76, 'transactions': [{'description_primary': 'Rendimentos', 'description_secondary': '', 'amount': 1.07, 'time': '07:20'}]}, {'day_date': '2025-07-22', 'day_partial_balance': 1742.55, 'transactions': [{'description_primary': 'Rendimentos', 'description_secondary': '', 'amount': 0.79, 'time': '06:31'}]}, {'day_date': '2025-07-23', 'day_partial_balance': 1743.34, 'transactions': [{'description_primary': 'Rendimentos', 'description_secondary': '', 'amount': 0.79, 'time': '06:56'}]}, {'day_date': '2025-07-24', 'day_partial_balance': 1744.12, 'transactions': [{'description_primary': 'Rendimentos', 'description_secondary': '', 'amount': 0.78, 'time': '08:03'}]}, {'day_date': '2025-07-25', 'day_partial_balance': 1744.91, 'transactions': [{'description_primary': 'Rendimentos', 'description_secondary': '', 'amount': 0.79, 'time': '11:20'}]}, {'day_date': '2025-07-28', 'day_partial_balance': 1745.7, 'transactions': [{'description_primary': 'Rendimentos', 'description_secondary': '', 'amount': 0.79, 'time': '05:53'}]}, {'day_date': '2025-07-29', 'day_partial_balance': 1746.49, 'transactions': [{'description_primary': 'Rendimentos', 'description_secondary': '', 'amount': 0.79, 'time': '09:56'}]}, {'day_date': '2025-07-30', 'day_partial_balance': 1747.27, 'transactions': [{'description_primary': 'Rendimentos', 'description_secondary': '', 'amount': 0.78, 'time': '06:12'}]}, {'day_date': '2025-07-31', 'day_partial_balance': 1745.05, 'transactions': [{'description_primary': 'Rendimentos', 'description_secondary': '', 'amount': 0.78, 'time': '06:40'}, {'description_primary': 'Transferência enviada', 'description_secondary': 'Artur Zahn', 'amount': -1.0, 'time': '22:38'}, {'description_primary': 'Transferência enviada', 'description_secondary': 'Artur Zahn', 'amount': -2.0, 'time': '23:51'}]}]\n",
    "sample3 = [{'day_date': '2025-07-18', 'day_partial_balance': 1740.69, 'transactions': [{'description_primary': 'Pagamento de contas', 'description_secondary': 'RFB - DOC ARREC EMP', 'amount': -452.83, 'time': '16:11'}, {'description_primary': 'Pagamento de contas', 'description_secondary': 'SAAE São Carlos SP', 'amount': -34.64, 'time': '16:18'}, {'description_primary': 'Pagamento de contas', 'description_secondary': 'CPFL Paulista', 'amount': -1171.44, 'time': '19:28'}, {'description_primary': 'Dinheiro retirado', 'description_secondary': 'Sobras do mes', 'amount': 536.82, 'time': '19:30'}, {'description_primary': 'Transferência Pix recebida', 'description_secondary': 'ARTUR ZAHN', 'amount': 1000.0, 'time': '19:45'}, {'description_primary': 'Transferência Pix recebida', 'description_secondary': 'ARTUR ZAHN', 'amount': 968.36, 'time': '19:46'}, {'description_primary': 'Dinheiro reservado', 'description_secondary': 'Sobras do mes', 'amount': -536.82, 'time': '19:52'}, {'description_primary': 'Pagamento de contas', 'description_secondary': 'SAAE São Carlos SP', 'amount': -1441.49, 'time': '19:55'}]}, {'day_date': '2025-07-21', 'day_partial_balance': 1741.76, 'transactions': [{'description_primary': 'Rendimentos', 'description_secondary': '', 'amount': 1.07, 'time': '07:20'}]}, {'day_date': '2025-07-22', 'day_partial_balance': 1742.55, 'transactions': [{'description_primary': 'Rendimentos', 'description_secondary': '', 'amount': 0.79, 'time': '06:31'}]}, {'day_date': '2025-07-23', 'day_partial_balance': 1743.34, 'transactions': [{'description_primary': 'Rendimentos', 'description_secondary': '', 'amount': 0.79, 'time': '06:56'}]}, {'day_date': '2025-07-24', 'day_partial_balance': 1744.12, 'transactions': [{'description_primary': 'Rendimentos', 'description_secondary': '', 'amount': 0.78, 'time': '08:03'}]}, {'day_date': '2025-07-25', 'day_partial_balance': 1744.91, 'transactions': [{'description_primary': 'Rendimentos', 'description_secondary': '', 'amount': 0.79, 'time': '11:20'}]}, {'day_date': '2025-07-28', 'day_partial_balance': 1745.7, 'transactions': [{'description_primary': 'Rendimentos', 'description_secondary': '', 'amount': 0.79, 'time': '05:53'}]}, {'day_date': '2025-07-29', 'day_partial_balance': 1746.49, 'transactions': [{'description_primary': 'Rendimentos', 'description_secondary': '', 'amount': 0.79, 'time': '09:56'}]}, {'day_date': '2025-07-30', 'day_partial_balance': 1747.27, 'transactions': [{'description_primary': 'Rendimentos', 'description_secondary': '', 'amount': 0.78, 'time': '06:12'}]}, {'day_date': '2025-07-31', 'day_partial_balance': 1745.05, 'transactions': [{'description_primary': 'Rendimentos', 'description_secondary': '', 'amount': 0.78, 'time': '06:40'}, {'description_primary': 'Transferência enviada', 'description_secondary': 'Artur Zahn', 'amount': -1.0, 'time': '22:38'}, {'description_primary': 'Transferência enviada', 'description_secondary': 'Artur Zahn', 'amount': -2.0, 'time': '23:51'}]}, {'day_date': '2025-08-01', 'day_partial_balance': 1748.05, 'transactions': [{'description_primary': 'Transferência recebida', 'description_secondary': 'Artur Zahn', 'amount': 3.0, 'time': '00:16'}]}]\n",
    "sample4 = [{'day_date': '2025-07-18', 'day_partial_balance': 1740.69, 'transactions': [{'description_primary': 'Pagamento de contas', 'description_secondary': 'RFB - DOC ARREC EMP', 'amount': -452.83, 'time': '16:11'}, {'description_primary': 'Pagamento de contas', 'description_secondary': 'SAAE São Carlos SP', 'amount': -34.64, 'time': '16:18'}, {'description_primary': 'Pagamento de contas', 'description_secondary': 'CPFL Paulista', 'amount': -1171.44, 'time': '19:28'}, {'description_primary': 'Dinheiro retirado', 'description_secondary': 'Sobras do mes', 'amount': 536.82, 'time': '19:30'}, {'description_primary': 'Transferência Pix recebida', 'description_secondary': 'ARTUR ZAHN', 'amount': 1000.0, 'time': '19:45'}, {'description_primary': 'Transferência Pix recebida', 'description_secondary': 'ARTUR ZAHN', 'amount': 968.36, 'time': '19:46'}, {'description_primary': 'Dinheiro reservado', 'description_secondary': 'Sobras do mes', 'amount': -536.82, 'time': '19:52'}, {'description_primary': 'Pagamento de contas', 'description_secondary': 'SAAE São Carlos SP', 'amount': -1441.49, 'time': '19:55'}]}, {'day_date': '2025-07-21', 'day_partial_balance': 1741.76, 'transactions': [{'description_primary': 'Rendimentos', 'description_secondary': '', 'amount': 1.07, 'time': '07:20'}]}, {'day_date': '2025-07-22', 'day_partial_balance': 1742.55, 'transactions': [{'description_primary': 'Rendimentos', 'description_secondary': '', 'amount': 0.79, 'time': '06:31'}]}, {'day_date': '2025-07-23', 'day_partial_balance': 1743.34, 'transactions': [{'description_primary': 'Rendimentos', 'description_secondary': '', 'amount': 0.79, 'time': '06:56'}]}, {'day_date': '2025-07-24', 'day_partial_balance': 1744.12, 'transactions': [{'description_primary': 'Rendimentos', 'description_secondary': '', 'amount': 0.78, 'time': '08:03'}]}, {'day_date': '2025-07-25', 'day_partial_balance': 1744.91, 'transactions': [{'description_primary': 'Rendimentos', 'description_secondary': '', 'amount': 0.79, 'time': '11:20'}]}, {'day_date': '2025-07-28', 'day_partial_balance': 1745.7, 'transactions': [{'description_primary': 'Rendimentos', 'description_secondary': '', 'amount': 0.79, 'time': '05:53'}]}, {'day_date': '2025-07-29', 'day_partial_balance': 1746.49, 'transactions': [{'description_primary': 'Rendimentos', 'description_secondary': '', 'amount': 0.79, 'time': '09:56'}]}, {'day_date': '2025-07-30', 'day_partial_balance': 1747.27, 'transactions': [{'description_primary': 'Rendimentos', 'description_secondary': '', 'amount': 0.78, 'time': '06:12'}]}, {'day_date': '2025-07-31', 'day_partial_balance': 1745.05, 'transactions': [{'description_primary': 'Rendimentos', 'description_secondary': '', 'amount': 0.78, 'time': '06:40'}, {'description_primary': 'Transferência enviada', 'description_secondary': 'Artur Zahn', 'amount': -1.0, 'time': '22:38'}, {'description_primary': 'Transferência enviada', 'description_secondary': 'Artur Zahn', 'amount': -2.0, 'time': '23:51'}]}, {'day_date': '2025-08-01', 'day_partial_balance': 1748.05, 'transactions': [{'description_primary': 'Transferência recebida', 'description_secondary': 'Artur Zahn', 'amount': 3.0, 'time': '00:16'}]}, {'day_date': '2025-08-02', 'day_partial_balance': 1750.05, 'transactions': [{'description_primary': 'Transferência recebida', 'description_secondary': 'Artur Zahn', 'amount': 2.0, 'time': '00:16'}]}]\n",
    "sample4 = [{'day_date': '2025-07-18', 'day_partial_balance': 1740.69, 'transactions': [{'description_primary': 'Pagamento de contas', 'description_secondary': 'RFB - DOC ARREC EMP', 'amount': -452.83, 'time': '16:11'}, {'description_primary': 'Pagamento de contas', 'description_secondary': 'SAAE São Carlos SP', 'amount': -34.64, 'time': '16:18'}, {'description_primary': 'Pagamento de contas', 'description_secondary': 'CPFL Paulista', 'amount': -1171.44, 'time': '19:28'}, {'description_primary': 'Dinheiro retirado', 'description_secondary': 'Sobras do mes', 'amount': 536.82, 'time': '19:30'}, {'description_primary': 'Transferência Pix recebida', 'description_secondary': 'ARTUR ZAHN', 'amount': 1000.0, 'time': '19:45'}, {'description_primary': 'Transferência Pix recebida', 'description_secondary': 'ARTUR ZAHN', 'amount': 968.36, 'time': '19:46'}, {'description_primary': 'Dinheiro reservado', 'description_secondary': 'Sobras do mes', 'amount': -536.82, 'time': '19:52'}, {'description_primary': 'Pagamento de contas', 'description_secondary': 'SAAE São Carlos SP', 'amount': -1441.49, 'time': '19:55'}]}, {'day_date': '2025-07-21', 'day_partial_balance': 1741.76, 'transactions': [{'description_primary': 'Rendimentos', 'description_secondary': '', 'amount': 1.07, 'time': '07:20'}]}, {'day_date': '2025-07-22', 'day_partial_balance': 1742.55, 'transactions': [{'description_primary': 'Rendimentos', 'description_secondary': '', 'amount': 0.79, 'time': '06:31'}]}, {'day_date': '2025-07-23', 'day_partial_balance': 1743.34, 'transactions': [{'description_primary': 'Rendimentos', 'description_secondary': '', 'amount': 0.79, 'time': '06:56'}]}, {'day_date': '2025-07-24', 'day_partial_balance': 1744.12, 'transactions': [{'description_primary': 'Rendimentos', 'description_secondary': '', 'amount': 0.78, 'time': '08:03'}]}, {'day_date': '2025-07-25', 'day_partial_balance': 1744.91, 'transactions': [{'description_primary': 'Rendimentos', 'description_secondary': '', 'amount': 0.79, 'time': '11:20'}]}, {'day_date': '2025-07-28', 'day_partial_balance': 1745.7, 'transactions': [{'description_primary': 'Rendimentos', 'description_secondary': '', 'amount': 0.79, 'time': '05:53'}]}, {'day_date': '2025-07-29', 'day_partial_balance': 1746.49, 'transactions': [{'description_primary': 'Rendimentos', 'description_secondary': '', 'amount': 0.79, 'time': '09:56'}]}, {'day_date': '2025-07-30', 'day_partial_balance': 1747.27, 'transactions': [{'description_primary': 'Rendimentos', 'description_secondary': '', 'amount': 0.78, 'time': '06:12'}]}, {'day_date': '2025-07-31', 'day_partial_balance': 1745.05, 'transactions': [{'description_primary': 'Rendimentos', 'description_secondary': '', 'amount': 0.78, 'time': '06:40'}, {'description_primary': 'Transferência enviada', 'description_secondary': 'Artur Zahn', 'amount': -1.0, 'time': '22:38'}, {'description_primary': 'Transferência enviada', 'description_secondary': 'Artur Zahn', 'amount': -2.0, 'time': '23:51'}]}, {'day_date': '2025-08-01', 'day_partial_balance': 1748.05, 'transactions': [{'description_primary': 'Transferência recebida', 'description_secondary': 'Artur Zahn', 'amount': 3.0, 'time': '00:16'}]}, {'day_date': '2025-08-02', 'day_partial_balance': 1755.05, 'transactions': [{'description_primary': 'Transferência recebida', 'description_secondary': 'Artur Zahn', 'amount': 2.0, 'time': '00:16'}, {'description_primary': 'Transferência recebida', 'description_secondary': 'Artur Zahn', 'amount': 5.0, 'time': '00:18'}]}]\n",
    "# sample2 = sample1.copy()"
   ]
  },
  {
   "cell_type": "code",
   "execution_count": 68,
   "id": "86e5308b",
   "metadata": {},
   "outputs": [],
   "source": [
    "import re\n",
    "\n",
    "def get_last_transaction_id(transaction_sample):\n",
    "    try:\n",
    "        return f\"{transaction_sample[-1]['day_date']}:{len(transaction_sample[-1]['transactions'])}\"\n",
    "    except IndexError:\n",
    "        raise ValueError(\"Transaction sample is empty or malformed\")\n",
    "\n",
    "def detect_new_transactions(last_transaction_id, transaction_sample):\n",
    "\n",
    "    r = r\"(\\d{4}-\\d{2}-\\d{2}):(\\d+)\"\n",
    "    match = re.match(r, last_transaction_id)\n",
    "    if not match:\n",
    "        raise ValueError(\"Invalid last transaction ID format\")\n",
    "    \n",
    "    last_date = match.group(1)\n",
    "    last_num = int(match.group(2))\n",
    "\n",
    "    print(f\"Last transaction ID: {last_date}:{last_num}\")\n",
    "\n",
    "    new_transactions = []\n",
    "\n",
    "    print(\"\\ndays:\\n\")\n",
    "    for day_data in transaction_sample:\n",
    "        if day_data['day_date'] < last_date:\n",
    "            continue\n",
    "        \n",
    "        if day_data['day_date'] == last_date:\n",
    "            if len(day_data['transactions']) > last_num:\n",
    "                print(f\"day {day_data['day_date']} have new transactions\")\n",
    "\n",
    "                new_transactions = [{\n",
    "                    'day_date': day_data['day_date'],\n",
    "                    'day_partial_balance': day_data['day_partial_balance'],\n",
    "                    'transactions': day_data['transactions'][last_num:],\n",
    "                }]\n",
    "\n",
    "        if day_data['day_date'] > last_date:\n",
    "            new_transactions.append(day_data.copy())\n",
    "        # else:\n",
    "        #     new_transactions.extend(day_data['transactions'])\n",
    "    \n",
    "    return new_transactions"
   ]
  },
  {
   "cell_type": "code",
   "execution_count": 86,
   "id": "e064a569",
   "metadata": {},
   "outputs": [
    {
     "name": "stdout",
     "output_type": "stream",
     "text": [
      "balance sample before: 1748.05\n",
      "balance sample after:  1755.05\n",
      "\n",
      "Last transaction ID: 2025-08-01:1\n",
      "\n",
      "days:\n",
      "\n",
      "\n",
      "New transactions detected:\n",
      "\n",
      "Day: 2025-08-02, Partial Balance: 1755.05\n",
      "  Transaction: Transferência recebida | Artur Zahn | 2.0 | 00:16\n",
      "  Transaction: Transferência recebida | Artur Zahn | 5.0 | 00:18\n"
     ]
    }
   ],
   "source": [
    "sample_before = sample3\n",
    "sample_after = sample4\n",
    "last_id = get_last_transaction_id(sample_before)\n",
    "new_transactions = []\n",
    "print(f\"balance sample before: {sample_before[-1]['day_partial_balance']}\")\n",
    "print(f\"balance sample after:  {sample_after[-1]['day_partial_balance']}\\n\")\n",
    "new_transactions = detect_new_transactions(last_id, sample_after)\n",
    "print(\"\\nNew transactions detected:\\n\")\n",
    "for day in new_transactions:\n",
    "    print(f\"Day: {day['day_date']}, Partial Balance: {day['day_partial_balance']}\")\n",
    "    for transaction in day['transactions']:\n",
    "        print(f\"  Transaction: {transaction['description_primary']} | {transaction['description_secondary']} | {transaction['amount']} | {transaction['time']}\")"
   ]
  },
  {
   "cell_type": "code",
   "execution_count": 94,
   "id": "0f6eed53",
   "metadata": {},
   "outputs": [],
   "source": [
    "import json\n",
    "all_data = json.load(open(\"data/all_sample.json\", \"r\"))"
   ]
  },
  {
   "cell_type": "code",
   "execution_count": 109,
   "id": "c87b418b",
   "metadata": {},
   "outputs": [],
   "source": [
    "transaction_types = []\n",
    "transaction_desc2_examples = {}\n",
    "for sample in all_data:\n",
    "    for day in sample:\n",
    "        for transaction in day['transactions']:\n",
    "            if transaction['description_primary'] not in transaction_types:\n",
    "                transaction_types.append(transaction['description_primary'])\n",
    "                transaction_desc2_examples[transaction['description_primary']] = []\n",
    "            \n",
    "            if transaction['description_secondary'] not in transaction_desc2_examples[transaction['description_primary']]:\n",
    "                transaction_desc2_examples[transaction['description_primary']].append(transaction['description_secondary'])"
   ]
  },
  {
   "cell_type": "code",
   "execution_count": 110,
   "id": "a3ca5a44",
   "metadata": {},
   "outputs": [
    {
     "data": {
      "text/plain": [
       "['Transferência Pix recebida',\n",
       " 'Rendimentos',\n",
       " 'Dinheiro reservado',\n",
       " 'Dinheiro retirado',\n",
       " 'Transferência enviada',\n",
       " 'Transferência recebida',\n",
       " 'Transferência Pix enviada',\n",
       " 'Pagamento com QR Pix',\n",
       " 'Pagamento',\n",
       " 'Reserva programada',\n",
       " 'Pagamento de contas',\n",
       " 'Transferência Pix cancelada']"
      ]
     },
     "execution_count": 110,
     "metadata": {},
     "output_type": "execute_result"
    }
   ],
   "source": [
    "transaction_types"
   ]
  },
  {
   "cell_type": "code",
   "execution_count": 113,
   "id": "c9099025",
   "metadata": {},
   "outputs": [
    {
     "name": "stdout",
     "output_type": "stream",
     "text": [
      "Transferência Pix recebida\n",
      "  - LUIS GUILHERME SANTOS MAZZARO\n",
      "  - Bruno Kenzo Saito\n",
      "  - Lucas Sebastian Vieira Silva\n",
      "  - MAURICIO PIRES DOS SANTOS\n",
      "  - PEDRO MICOSSI COSTA\n",
      "  - Vitor Dias Ferreira\n",
      "  - LUIZ HENRIQUE CALZAVARA DE SOUZA\n",
      "  - ARTHUR SILVA DA COSTA\n",
      "  - Gabriel Henrique Souza de Melo\n",
      "  - CAUE FERNANDES SOARES\n",
      "  - RAFAEL SBRAGIA MATSUI\n",
      "  - CARLOS JOSE FURLAN\n",
      "  - DINAIR DE CARVALHO SANTOS\n",
      "  - LUCAS BECKER RIBEIRO\n",
      "  - BRUNO KENZO SAITO\n",
      "  - Lucas Mariotti\n",
      "  - CARLOS GUSTAVO DE ARRUDA TINOCO\n",
      "  - FÃ¡bio Makoto Nakagawa Kimura\n",
      "  - ARTUR ZAHN\n",
      "  - SONIA CRISTINA DA SILVA COSTA\n",
      "  - LAURA FERNANDA DIAGONE\n",
      "  - BENTO MILANESI FURLAN\n",
      "Rendimentos\n",
      "  - \n",
      "Dinheiro reservado\n",
      "  - caixinha\n",
      "  - 13° Oséias\n",
      "  - Mês q vem\n",
      "  - Sobras do mes\n",
      "Dinheiro retirado\n",
      "  - caixinha\n",
      "  - 13° Oséias\n",
      "  - Mês q vem\n",
      "Transferência enviada\n",
      "  - Artur Zahn\n",
      "  - TENDA ATACADO SA\n",
      "Transferência recebida\n",
      "  - Artur Zahn\n",
      "  - Thiago Ambiel\n",
      "  - Mauricio Pires Dos Santos\n",
      "Transferência Pix enviada\n",
      "  - ARTUR ZAHN\n",
      "  - ROBERTO PRATAVIERA\n",
      "  - TIAGO MARQUES LOUZADA HARTUNG\n",
      "  - Wendel Alves De Oliveira\n",
      "  - OSEAS DIAS DA SILVA SELVAGIO\n",
      "  - ARTHUR SILVA DA COSTA\n",
      "  - Walterdisney Lima Santos\n",
      "  - Valdir Paschoalino Junior\n",
      "  - DILMA DE LOURDES BUENO FERRATI\n",
      "Pagamento com QR Pix\n",
      "  - TENDA ATACADO SA\n",
      "  - COMPANHIA PAULISTA DE FORCA E LUZ\n",
      "  - TELEFONICA BRASIL S A \n",
      "  - SUPERMERCADOS JAU SERVE LTDA\n",
      "Pagamento\n",
      "  - Varejao passarinh\n",
      "  - Jau serve lj 32\n",
      "  - Sandra cristina c\n",
      "  - Mag global\n",
      "  - Comercial acciere de prod\n",
      "  - Comercialjjlltda\n",
      "  - Alberto amorim zago me\n",
      "Reserva programada\n",
      "  - 13° Oséias\n",
      "Pagamento de contas\n",
      "  - SAAE São Carlos SP\n",
      "  - RFB - DOC ARREC EMP\n",
      "  - Vivo Móvel SP\n",
      "  - CPFL Paulista\n",
      "Transferência Pix cancelada\n",
      "  - BENTO MILANESI FURLAN\n"
     ]
    }
   ],
   "source": [
    "for transaction_type in transaction_types:\n",
    "    print(transaction_type)\n",
    "    for desc2 in transaction_desc2_examples[transaction_type]:\n",
    "        print(f\"  - {desc2}\")"
   ]
  },
  {
   "cell_type": "code",
   "execution_count": 138,
   "id": "589b4c35",
   "metadata": {},
   "outputs": [],
   "source": [
    "raw = \"\"\"Fábio Makoto Nakagawa Kimura\n",
    "Artur Zahn\n",
    "CARLOS GUSTAVO DE ARRUDA TINOCO\n",
    "LUCAS BECKER RIBEIRO\n",
    "\n",
    "RAFAEL SBRAGIA MATSUI\n",
    "DINAIR DE CARVALHO SANTOS\n",
    "Thiago Ambiel\n",
    "\n",
    "Vitor Dias Ferreira\n",
    "MAURICIO PIRES DOS SANTOS\n",
    "PEDRO MICOSSI COSTA\n",
    "ARTHUR SILVA DA COSTA,SONIA CRISTINA DA SILVA COSTA\n",
    "CAUE FERNANDES SOARES\n",
    "Lucas Sebastian Vieira Silva\n",
    "CARLOS JOSE FURLAN,BENTO MILANESI FURLAN\n",
    "Bruno Kenzo Saito\n",
    "LUIZ HENRIQUE CALZAVARA DE SOUZA\"\"\"\n",
    "\n"
   ]
  },
  {
   "cell_type": "code",
   "execution_count": 1,
   "id": "bf4a67d4",
   "metadata": {},
   "outputs": [
    {
     "data": {
      "text/plain": [
       "'oseas dias da silva selvagio'"
      ]
     },
     "execution_count": 1,
     "metadata": {},
     "output_type": "execute_result"
    }
   ],
   "source": [
    "from encode_name import encode_name\n",
    "\n",
    "encode_name('OSEAS DIAS DA SILVA SELVAGIO')"
   ]
  },
  {
   "cell_type": "code",
   "execution_count": 9,
   "id": "4b7f0140",
   "metadata": {},
   "outputs": [
    {
     "name": "stdout",
     "output_type": "stream",
     "text": [
      "20.0\n",
      "-20.0\n",
      "20.0\n"
     ]
    }
   ],
   "source": [
    "from helper_functions import convert_brl_format\n",
    "\n",
    "values = [\n",
    "    'R$ 20,00',\n",
    "    'R$ -20,00',\n",
    "    'R$20,00',\n",
    "]\n",
    "\n",
    "[ print(convert_brl_format(value)) for value in values]\n",
    "pass"
   ]
  },
  {
   "cell_type": "code",
   "execution_count": 25,
   "id": "fbec2852",
   "metadata": {},
   "outputs": [
    {
     "name": "stdout",
     "output_type": "stream",
     "text": [
      "1a2Z3\n",
      "1a2Z3\n"
     ]
    }
   ],
   "source": [
    "import re\n",
    "CHECK_ID_PATTERN = re.compile(r\"check#(?P<id>[A-Za-z0-9]+)\")\n",
    "\n",
    "def extract_check_id(text):\n",
    "    m = CHECK_ID_PATTERN.search(text)\n",
    "\n",
    "    if not m:\n",
    "        return None\n",
    "    \n",
    "    return m['id']\n",
    "\n",
    "print(extract_check_id('check#1a2Z3'))\n",
    "print(extract_check_id('asd check#1a2Z3'))"
   ]
  },
  {
   "cell_type": "code",
   "execution_count": 8,
   "id": "c319463e",
   "metadata": {},
   "outputs": [
    {
     "name": "stdout",
     "output_type": "stream",
     "text": [
      "opa\n"
     ]
    }
   ],
   "source": [
    "from configs import ConfigManager\n",
    "CONFIG_FILE_PATH = 'data/testing.json'\n",
    "DEFAUTL_CONFIG = {\n",
    "    \"token\": None,\n",
    "    \"cat_msgs\": {},\n",
    "}\n",
    "cfg = ConfigManager(CONFIG_FILE_PATH, DEFAUTL_CONFIG)\n",
    "cfg.load()"
   ]
  },
  {
   "cell_type": "code",
   "execution_count": 10,
   "id": "f694a5db",
   "metadata": {},
   "outputs": [],
   "source": [
    "# cfg.cat_msgs = [1, 2]\n",
    "cfg.cat_msgs['a'] = 'oi'"
   ]
  },
  {
   "cell_type": "code",
   "execution_count": 16,
   "id": "ec871007",
   "metadata": {},
   "outputs": [],
   "source": [
    "cfg.save()"
   ]
  },
  {
   "cell_type": "code",
   "execution_count": 11,
   "id": "57bef91d",
   "metadata": {},
   "outputs": [
    {
     "name": "stdout",
     "output_type": "stream",
     "text": [
      "{'a': 'oi'}\n"
     ]
    }
   ],
   "source": [
    "print(cfg.cat_msgs)"
   ]
  },
  {
   "cell_type": "code",
   "execution_count": 1,
   "id": "9614b4d8",
   "metadata": {},
   "outputs": [
    {
     "name": "stdout",
     "output_type": "stream",
     "text": [
      "prompt_id\n",
      "options_msg_id\n"
     ]
    }
   ],
   "source": [
    "for key in (\"prompt_id\", \"options_msg_id\"):\n",
    "    print(key)"
   ]
  }
 ],
 "metadata": {
  "kernelspec": {
   "display_name": "myenv",
   "language": "python",
   "name": "python3"
  },
  "language_info": {
   "codemirror_mode": {
    "name": "ipython",
    "version": 3
   },
   "file_extension": ".py",
   "mimetype": "text/x-python",
   "name": "python",
   "nbconvert_exporter": "python",
   "pygments_lexer": "ipython3",
   "version": "3.10.12"
  }
 },
 "nbformat": 4,
 "nbformat_minor": 5
}
