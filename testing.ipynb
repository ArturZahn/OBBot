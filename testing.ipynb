{
 "cells": [
  {
   "cell_type": "markdown",
   "id": "ae442a57",
   "metadata": {},
   "source": [
    "Detecting new transactions"
   ]
  },
  {
   "cell_type": "code",
   "execution_count": 74,
   "id": "980f3caf",
   "metadata": {},
   "outputs": [],
   "source": [
    "sample1 = [{'day_date': '2025-07-17', 'day_partial_balance': 2871.44, 'transactions': [{'description_primary': 'Rendimentos', 'description_secondary': '', 'ammount': 1.29, 'time': '07:05'}]}, {'day_date': '2025-07-18', 'day_partial_balance': 1740.69, 'transactions': [{'description_primary': 'Rendimentos', 'description_secondary': '', 'ammount': 1.29, 'time': '05:18'}, {'description_primary': 'Pagamento de contas', 'description_secondary': 'RFB - DOC ARREC EMP', 'ammount': -452.83, 'time': '16:11'}, {'description_primary': 'Pagamento de contas', 'description_secondary': 'SAAE São Carlos SP', 'ammount': -34.64, 'time': '16:18'}, {'description_primary': 'Pagamento de contas', 'description_secondary': 'CPFL Paulista', 'ammount': -1171.44, 'time': '19:28'}, {'description_primary': 'Dinheiro retirado', 'description_secondary': 'Sobras do mes', 'ammount': 536.82, 'time': '19:30'}, {'description_primary': 'Transferência Pix recebida', 'description_secondary': 'ARTUR ZAHN', 'ammount': 1000.0, 'time': '19:45'}, {'description_primary': 'Transferência Pix recebida', 'description_secondary': 'ARTUR ZAHN', 'ammount': 968.36, 'time': '19:46'}, {'description_primary': 'Dinheiro reservado', 'description_secondary': 'Sobras do mes', 'ammount': -536.82, 'time': '19:52'}, {'description_primary': 'Pagamento de contas', 'description_secondary': 'SAAE São Carlos SP', 'ammount': -1441.49, 'time': '19:55'}]}, {'day_date': '2025-07-21', 'day_partial_balance': 1741.76, 'transactions': [{'description_primary': 'Rendimentos', 'description_secondary': '', 'ammount': 1.07, 'time': '07:20'}]}, {'day_date': '2025-07-22', 'day_partial_balance': 1742.55, 'transactions': [{'description_primary': 'Rendimentos', 'description_secondary': '', 'ammount': 0.79, 'time': '06:31'}]}, {'day_date': '2025-07-23', 'day_partial_balance': 1743.34, 'transactions': [{'description_primary': 'Rendimentos', 'description_secondary': '', 'ammount': 0.79, 'time': '06:56'}]}, {'day_date': '2025-07-24', 'day_partial_balance': 1744.12, 'transactions': [{'description_primary': 'Rendimentos', 'description_secondary': '', 'ammount': 0.78, 'time': '08:03'}]}, {'day_date': '2025-07-25', 'day_partial_balance': 1744.91, 'transactions': [{'description_primary': 'Rendimentos', 'description_secondary': '', 'ammount': 0.79, 'time': '11:20'}]}, {'day_date': '2025-07-28', 'day_partial_balance': 1745.7, 'transactions': [{'description_primary': 'Rendimentos', 'description_secondary': '', 'ammount': 0.79, 'time': '05:53'}]}, {'day_date': '2025-07-29', 'day_partial_balance': 1746.49, 'transactions': [{'description_primary': 'Rendimentos', 'description_secondary': '', 'ammount': 0.79, 'time': '09:56'}]}, {'day_date': '2025-07-30', 'day_partial_balance': 1747.27, 'transactions': [{'description_primary': 'Rendimentos', 'description_secondary': '', 'ammount': 0.78, 'time': '06:12'}]}, {'day_date': '2025-07-31', 'day_partial_balance': 1748.05, 'transactions': [{'description_primary': 'Rendimentos', 'description_secondary': '', 'ammount': 0.78, 'time': '06:40'}]}]\n",
    "sample2 = [{'day_date': '2025-07-17', 'day_partial_balance': 2871.44, 'transactions': [{'description_primary': 'Rendimentos', 'description_secondary': '', 'ammount': 1.29, 'time': '07:05'}]}, {'day_date': '2025-07-18', 'day_partial_balance': 1740.69, 'transactions': [{'description_primary': 'Rendimentos', 'description_secondary': '', 'ammount': 1.29, 'time': '05:18'}, {'description_primary': 'Pagamento de contas', 'description_secondary': 'RFB - DOC ARREC EMP', 'ammount': -452.83, 'time': '16:11'}, {'description_primary': 'Pagamento de contas', 'description_secondary': 'SAAE São Carlos SP', 'ammount': -34.64, 'time': '16:18'}, {'description_primary': 'Pagamento de contas', 'description_secondary': 'CPFL Paulista', 'ammount': -1171.44, 'time': '19:28'}, {'description_primary': 'Dinheiro retirado', 'description_secondary': 'Sobras do mes', 'ammount': 536.82, 'time': '19:30'}, {'description_primary': 'Transferência Pix recebida', 'description_secondary': 'ARTUR ZAHN', 'ammount': 1000.0, 'time': '19:45'}, {'description_primary': 'Transferência Pix recebida', 'description_secondary': 'ARTUR ZAHN', 'ammount': 968.36, 'time': '19:46'}, {'description_primary': 'Dinheiro reservado', 'description_secondary': 'Sobras do mes', 'ammount': -536.82, 'time': '19:52'}, {'description_primary': 'Pagamento de contas', 'description_secondary': 'SAAE São Carlos SP', 'ammount': -1441.49, 'time': '19:55'}]}, {'day_date': '2025-07-21', 'day_partial_balance': 1741.76, 'transactions': [{'description_primary': 'Rendimentos', 'description_secondary': '', 'ammount': 1.07, 'time': '07:20'}]}, {'day_date': '2025-07-22', 'day_partial_balance': 1742.55, 'transactions': [{'description_primary': 'Rendimentos', 'description_secondary': '', 'ammount': 0.79, 'time': '06:31'}]}, {'day_date': '2025-07-23', 'day_partial_balance': 1743.34, 'transactions': [{'description_primary': 'Rendimentos', 'description_secondary': '', 'ammount': 0.79, 'time': '06:56'}]}, {'day_date': '2025-07-24', 'day_partial_balance': 1744.12, 'transactions': [{'description_primary': 'Rendimentos', 'description_secondary': '', 'ammount': 0.78, 'time': '08:03'}]}, {'day_date': '2025-07-25', 'day_partial_balance': 1744.91, 'transactions': [{'description_primary': 'Rendimentos', 'description_secondary': '', 'ammount': 0.79, 'time': '11:20'}]}, {'day_date': '2025-07-28', 'day_partial_balance': 1745.7, 'transactions': [{'description_primary': 'Rendimentos', 'description_secondary': '', 'ammount': 0.79, 'time': '05:53'}]}, {'day_date': '2025-07-29', 'day_partial_balance': 1746.49, 'transactions': [{'description_primary': 'Rendimentos', 'description_secondary': '', 'ammount': 0.79, 'time': '09:56'}]}, {'day_date': '2025-07-30', 'day_partial_balance': 1747.27, 'transactions': [{'description_primary': 'Rendimentos', 'description_secondary': '', 'ammount': 0.78, 'time': '06:12'}]}, {'day_date': '2025-07-31', 'day_partial_balance': 1745.05, 'transactions': [{'description_primary': 'Rendimentos', 'description_secondary': '', 'ammount': 0.78, 'time': '06:40'}, {'description_primary': 'Transferência enviada', 'description_secondary': 'Artur Zahn', 'ammount': -1.0, 'time': '22:38'}, {'description_primary': 'Transferência enviada', 'description_secondary': 'Artur Zahn', 'ammount': -2.0, 'time': '23:51'}]}]\n",
    "sample3 = [{'day_date': '2025-07-18', 'day_partial_balance': 1740.69, 'transactions': [{'description_primary': 'Pagamento de contas', 'description_secondary': 'RFB - DOC ARREC EMP', 'ammount': -452.83, 'time': '16:11'}, {'description_primary': 'Pagamento de contas', 'description_secondary': 'SAAE São Carlos SP', 'ammount': -34.64, 'time': '16:18'}, {'description_primary': 'Pagamento de contas', 'description_secondary': 'CPFL Paulista', 'ammount': -1171.44, 'time': '19:28'}, {'description_primary': 'Dinheiro retirado', 'description_secondary': 'Sobras do mes', 'ammount': 536.82, 'time': '19:30'}, {'description_primary': 'Transferência Pix recebida', 'description_secondary': 'ARTUR ZAHN', 'ammount': 1000.0, 'time': '19:45'}, {'description_primary': 'Transferência Pix recebida', 'description_secondary': 'ARTUR ZAHN', 'ammount': 968.36, 'time': '19:46'}, {'description_primary': 'Dinheiro reservado', 'description_secondary': 'Sobras do mes', 'ammount': -536.82, 'time': '19:52'}, {'description_primary': 'Pagamento de contas', 'description_secondary': 'SAAE São Carlos SP', 'ammount': -1441.49, 'time': '19:55'}]}, {'day_date': '2025-07-21', 'day_partial_balance': 1741.76, 'transactions': [{'description_primary': 'Rendimentos', 'description_secondary': '', 'ammount': 1.07, 'time': '07:20'}]}, {'day_date': '2025-07-22', 'day_partial_balance': 1742.55, 'transactions': [{'description_primary': 'Rendimentos', 'description_secondary': '', 'ammount': 0.79, 'time': '06:31'}]}, {'day_date': '2025-07-23', 'day_partial_balance': 1743.34, 'transactions': [{'description_primary': 'Rendimentos', 'description_secondary': '', 'ammount': 0.79, 'time': '06:56'}]}, {'day_date': '2025-07-24', 'day_partial_balance': 1744.12, 'transactions': [{'description_primary': 'Rendimentos', 'description_secondary': '', 'ammount': 0.78, 'time': '08:03'}]}, {'day_date': '2025-07-25', 'day_partial_balance': 1744.91, 'transactions': [{'description_primary': 'Rendimentos', 'description_secondary': '', 'ammount': 0.79, 'time': '11:20'}]}, {'day_date': '2025-07-28', 'day_partial_balance': 1745.7, 'transactions': [{'description_primary': 'Rendimentos', 'description_secondary': '', 'ammount': 0.79, 'time': '05:53'}]}, {'day_date': '2025-07-29', 'day_partial_balance': 1746.49, 'transactions': [{'description_primary': 'Rendimentos', 'description_secondary': '', 'ammount': 0.79, 'time': '09:56'}]}, {'day_date': '2025-07-30', 'day_partial_balance': 1747.27, 'transactions': [{'description_primary': 'Rendimentos', 'description_secondary': '', 'ammount': 0.78, 'time': '06:12'}]}, {'day_date': '2025-07-31', 'day_partial_balance': 1745.05, 'transactions': [{'description_primary': 'Rendimentos', 'description_secondary': '', 'ammount': 0.78, 'time': '06:40'}, {'description_primary': 'Transferência enviada', 'description_secondary': 'Artur Zahn', 'ammount': -1.0, 'time': '22:38'}, {'description_primary': 'Transferência enviada', 'description_secondary': 'Artur Zahn', 'ammount': -2.0, 'time': '23:51'}]}, {'day_date': '2025-08-01', 'day_partial_balance': 1748.05, 'transactions': [{'description_primary': 'Transferência recebida', 'description_secondary': 'Artur Zahn', 'ammount': 3.0, 'time': '00:16'}]}]\n",
    "sample4 = [{'day_date': '2025-07-18', 'day_partial_balance': 1740.69, 'transactions': [{'description_primary': 'Pagamento de contas', 'description_secondary': 'RFB - DOC ARREC EMP', 'ammount': -452.83, 'time': '16:11'}, {'description_primary': 'Pagamento de contas', 'description_secondary': 'SAAE São Carlos SP', 'ammount': -34.64, 'time': '16:18'}, {'description_primary': 'Pagamento de contas', 'description_secondary': 'CPFL Paulista', 'ammount': -1171.44, 'time': '19:28'}, {'description_primary': 'Dinheiro retirado', 'description_secondary': 'Sobras do mes', 'ammount': 536.82, 'time': '19:30'}, {'description_primary': 'Transferência Pix recebida', 'description_secondary': 'ARTUR ZAHN', 'ammount': 1000.0, 'time': '19:45'}, {'description_primary': 'Transferência Pix recebida', 'description_secondary': 'ARTUR ZAHN', 'ammount': 968.36, 'time': '19:46'}, {'description_primary': 'Dinheiro reservado', 'description_secondary': 'Sobras do mes', 'ammount': -536.82, 'time': '19:52'}, {'description_primary': 'Pagamento de contas', 'description_secondary': 'SAAE São Carlos SP', 'ammount': -1441.49, 'time': '19:55'}]}, {'day_date': '2025-07-21', 'day_partial_balance': 1741.76, 'transactions': [{'description_primary': 'Rendimentos', 'description_secondary': '', 'ammount': 1.07, 'time': '07:20'}]}, {'day_date': '2025-07-22', 'day_partial_balance': 1742.55, 'transactions': [{'description_primary': 'Rendimentos', 'description_secondary': '', 'ammount': 0.79, 'time': '06:31'}]}, {'day_date': '2025-07-23', 'day_partial_balance': 1743.34, 'transactions': [{'description_primary': 'Rendimentos', 'description_secondary': '', 'ammount': 0.79, 'time': '06:56'}]}, {'day_date': '2025-07-24', 'day_partial_balance': 1744.12, 'transactions': [{'description_primary': 'Rendimentos', 'description_secondary': '', 'ammount': 0.78, 'time': '08:03'}]}, {'day_date': '2025-07-25', 'day_partial_balance': 1744.91, 'transactions': [{'description_primary': 'Rendimentos', 'description_secondary': '', 'ammount': 0.79, 'time': '11:20'}]}, {'day_date': '2025-07-28', 'day_partial_balance': 1745.7, 'transactions': [{'description_primary': 'Rendimentos', 'description_secondary': '', 'ammount': 0.79, 'time': '05:53'}]}, {'day_date': '2025-07-29', 'day_partial_balance': 1746.49, 'transactions': [{'description_primary': 'Rendimentos', 'description_secondary': '', 'ammount': 0.79, 'time': '09:56'}]}, {'day_date': '2025-07-30', 'day_partial_balance': 1747.27, 'transactions': [{'description_primary': 'Rendimentos', 'description_secondary': '', 'ammount': 0.78, 'time': '06:12'}]}, {'day_date': '2025-07-31', 'day_partial_balance': 1745.05, 'transactions': [{'description_primary': 'Rendimentos', 'description_secondary': '', 'ammount': 0.78, 'time': '06:40'}, {'description_primary': 'Transferência enviada', 'description_secondary': 'Artur Zahn', 'ammount': -1.0, 'time': '22:38'}, {'description_primary': 'Transferência enviada', 'description_secondary': 'Artur Zahn', 'ammount': -2.0, 'time': '23:51'}]}, {'day_date': '2025-08-01', 'day_partial_balance': 1748.05, 'transactions': [{'description_primary': 'Transferência recebida', 'description_secondary': 'Artur Zahn', 'ammount': 3.0, 'time': '00:16'}]}, {'day_date': '2025-08-02', 'day_partial_balance': 1750.05, 'transactions': [{'description_primary': 'Transferência recebida', 'description_secondary': 'Artur Zahn', 'ammount': 2.0, 'time': '00:16'}]}]\n",
    "sample4 = [{'day_date': '2025-07-18', 'day_partial_balance': 1740.69, 'transactions': [{'description_primary': 'Pagamento de contas', 'description_secondary': 'RFB - DOC ARREC EMP', 'ammount': -452.83, 'time': '16:11'}, {'description_primary': 'Pagamento de contas', 'description_secondary': 'SAAE São Carlos SP', 'ammount': -34.64, 'time': '16:18'}, {'description_primary': 'Pagamento de contas', 'description_secondary': 'CPFL Paulista', 'ammount': -1171.44, 'time': '19:28'}, {'description_primary': 'Dinheiro retirado', 'description_secondary': 'Sobras do mes', 'ammount': 536.82, 'time': '19:30'}, {'description_primary': 'Transferência Pix recebida', 'description_secondary': 'ARTUR ZAHN', 'ammount': 1000.0, 'time': '19:45'}, {'description_primary': 'Transferência Pix recebida', 'description_secondary': 'ARTUR ZAHN', 'ammount': 968.36, 'time': '19:46'}, {'description_primary': 'Dinheiro reservado', 'description_secondary': 'Sobras do mes', 'ammount': -536.82, 'time': '19:52'}, {'description_primary': 'Pagamento de contas', 'description_secondary': 'SAAE São Carlos SP', 'ammount': -1441.49, 'time': '19:55'}]}, {'day_date': '2025-07-21', 'day_partial_balance': 1741.76, 'transactions': [{'description_primary': 'Rendimentos', 'description_secondary': '', 'ammount': 1.07, 'time': '07:20'}]}, {'day_date': '2025-07-22', 'day_partial_balance': 1742.55, 'transactions': [{'description_primary': 'Rendimentos', 'description_secondary': '', 'ammount': 0.79, 'time': '06:31'}]}, {'day_date': '2025-07-23', 'day_partial_balance': 1743.34, 'transactions': [{'description_primary': 'Rendimentos', 'description_secondary': '', 'ammount': 0.79, 'time': '06:56'}]}, {'day_date': '2025-07-24', 'day_partial_balance': 1744.12, 'transactions': [{'description_primary': 'Rendimentos', 'description_secondary': '', 'ammount': 0.78, 'time': '08:03'}]}, {'day_date': '2025-07-25', 'day_partial_balance': 1744.91, 'transactions': [{'description_primary': 'Rendimentos', 'description_secondary': '', 'ammount': 0.79, 'time': '11:20'}]}, {'day_date': '2025-07-28', 'day_partial_balance': 1745.7, 'transactions': [{'description_primary': 'Rendimentos', 'description_secondary': '', 'ammount': 0.79, 'time': '05:53'}]}, {'day_date': '2025-07-29', 'day_partial_balance': 1746.49, 'transactions': [{'description_primary': 'Rendimentos', 'description_secondary': '', 'ammount': 0.79, 'time': '09:56'}]}, {'day_date': '2025-07-30', 'day_partial_balance': 1747.27, 'transactions': [{'description_primary': 'Rendimentos', 'description_secondary': '', 'ammount': 0.78, 'time': '06:12'}]}, {'day_date': '2025-07-31', 'day_partial_balance': 1745.05, 'transactions': [{'description_primary': 'Rendimentos', 'description_secondary': '', 'ammount': 0.78, 'time': '06:40'}, {'description_primary': 'Transferência enviada', 'description_secondary': 'Artur Zahn', 'ammount': -1.0, 'time': '22:38'}, {'description_primary': 'Transferência enviada', 'description_secondary': 'Artur Zahn', 'ammount': -2.0, 'time': '23:51'}]}, {'day_date': '2025-08-01', 'day_partial_balance': 1748.05, 'transactions': [{'description_primary': 'Transferência recebida', 'description_secondary': 'Artur Zahn', 'ammount': 3.0, 'time': '00:16'}]}, {'day_date': '2025-08-02', 'day_partial_balance': 1755.05, 'transactions': [{'description_primary': 'Transferência recebida', 'description_secondary': 'Artur Zahn', 'ammount': 2.0, 'time': '00:16'}, {'description_primary': 'Transferência recebida', 'description_secondary': 'Artur Zahn', 'ammount': 5.0, 'time': '00:18'}]}]\n",
    "# sample2 = sample1.copy()"
   ]
  },
  {
   "cell_type": "code",
   "execution_count": 68,
   "id": "86e5308b",
   "metadata": {},
   "outputs": [],
   "source": [
    "import re\n",
    "\n",
    "def get_last_transaction_id(transaction_sample):\n",
    "    try:\n",
    "        return f\"{transaction_sample[-1]['day_date']}:{len(transaction_sample[-1]['transactions'])}\"\n",
    "    except IndexError:\n",
    "        raise ValueError(\"Transaction sample is empty or malformed\")\n",
    "\n",
    "def detect_new_transactions(last_transaction_id, transaction_sample):\n",
    "\n",
    "    r = r\"(\\d{4}-\\d{2}-\\d{2}):(\\d+)\"\n",
    "    match = re.match(r, last_transaction_id)\n",
    "    if not match:\n",
    "        raise ValueError(\"Invalid last transaction ID format\")\n",
    "    \n",
    "    last_date = match.group(1)\n",
    "    last_num = int(match.group(2))\n",
    "\n",
    "    print(f\"Last transaction ID: {last_date}:{last_num}\")\n",
    "\n",
    "    new_transactions = []\n",
    "\n",
    "    print(\"\\ndays:\\n\")\n",
    "    for day_data in transaction_sample:\n",
    "        if day_data['day_date'] < last_date:\n",
    "            continue\n",
    "        \n",
    "        if day_data['day_date'] == last_date:\n",
    "            if len(day_data['transactions']) > last_num:\n",
    "                print(f\"day {day_data['day_date']} have new transactions\")\n",
    "\n",
    "                new_transactions = [{\n",
    "                    'day_date': day_data['day_date'],\n",
    "                    'day_partial_balance': day_data['day_partial_balance'],\n",
    "                    'transactions': day_data['transactions'][last_num:],\n",
    "                }]\n",
    "\n",
    "        if day_data['day_date'] > last_date:\n",
    "            new_transactions.append(day_data.copy())\n",
    "        # else:\n",
    "        #     new_transactions.extend(day_data['transactions'])\n",
    "    \n",
    "    return new_transactions"
   ]
  },
  {
   "cell_type": "code",
   "execution_count": 86,
   "id": "e064a569",
   "metadata": {},
   "outputs": [
    {
     "name": "stdout",
     "output_type": "stream",
     "text": [
      "balance sample before: 1748.05\n",
      "balance sample after:  1755.05\n",
      "\n",
      "Last transaction ID: 2025-08-01:1\n",
      "\n",
      "days:\n",
      "\n",
      "\n",
      "New transactions detected:\n",
      "\n",
      "Day: 2025-08-02, Partial Balance: 1755.05\n",
      "  Transaction: Transferência recebida | Artur Zahn | 2.0 | 00:16\n",
      "  Transaction: Transferência recebida | Artur Zahn | 5.0 | 00:18\n"
     ]
    }
   ],
   "source": [
    "sample_before = sample3\n",
    "sample_after = sample4\n",
    "last_id = get_last_transaction_id(sample_before)\n",
    "new_transactions = []\n",
    "print(f\"balance sample before: {sample_before[-1]['day_partial_balance']}\")\n",
    "print(f\"balance sample after:  {sample_after[-1]['day_partial_balance']}\\n\")\n",
    "new_transactions = detect_new_transactions(last_id, sample_after)\n",
    "print(\"\\nNew transactions detected:\\n\")\n",
    "for day in new_transactions:\n",
    "    print(f\"Day: {day['day_date']}, Partial Balance: {day['day_partial_balance']}\")\n",
    "    for transaction in day['transactions']:\n",
    "        print(f\"  Transaction: {transaction['description_primary']} | {transaction['description_secondary']} | {transaction['ammount']} | {transaction['time']}\")"
   ]
  }
 ],
 "metadata": {
  "kernelspec": {
   "display_name": "myenv",
   "language": "python",
   "name": "python3"
  },
  "language_info": {
   "codemirror_mode": {
    "name": "ipython",
    "version": 3
   },
   "file_extension": ".py",
   "mimetype": "text/x-python",
   "name": "python",
   "nbconvert_exporter": "python",
   "pygments_lexer": "ipython3",
   "version": "3.10.12"
  }
 },
 "nbformat": 4,
 "nbformat_minor": 5
}
